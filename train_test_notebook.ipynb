{
 "cells": [
  {
   "cell_type": "markdown",
   "source": [
    "# 这是一个实现由INR图像生成RGB图像的神经网络，思路来源于知乎大佬的ai上色示例，链接: https://zhuanlan.zhihu.com/p/30493746\n",
    "# 大佬的训练思路是由RGB图像转为LAB图像，通过A，B通道的色彩信息作为标签，来对L通道的明度图像进行训练，最后融合训练后的色彩信息与明度，实现对图像上色\n",
    "这个思路恰好可以用来实现由红外图：INR ，来转化成普通色彩图像：RGB 的目的：本人研究方向为自动驾驶目标检测，此模块作为图像增强部分使用，实现自动驾驶汽车夜视识别功能"
   ],
   "metadata": {
    "collapsed": false
   },
   "id": "166eec90ac08ca71"
  },
  {
   "cell_type": "code",
   "execution_count": null,
   "outputs": [],
   "source": [
    "# 训练脚本如下：\n",
    "!python train.py --data_dir='your data directory' --save_dir='your path to save the trained model' --epochs='number of epochs' --optimizer='your optimizer for instance:SGD AdamW'\n",
    "# 其他训练参数可输入 opt--h 来查询"
   ],
   "metadata": {
    "collapsed": false
   },
   "id": "8f1b7147d30a8521"
  },
  {
   "cell_type": "code",
   "execution_count": null,
   "outputs": [],
   "source": [
    "#本人在Windows下训练，相应脚本如下:\n",
    "!python train.py --data=\"D:/code/datasets/bddn/images\" --epochs=100 --loss=mse --batch_size=8"
   ],
   "metadata": {
    "collapsed": false
   },
   "id": "6d3a9fb2087afc7b"
  },
  {
   "cell_type": "code",
   "execution_count": null,
   "outputs": [],
   "source": [
    "# tensorboard 可视化命令：\n",
    "!bash tensorboard --log_dir='runs/tensorboard'"
   ],
   "metadata": {
    "collapsed": false
   },
   "id": "1a5f7ee1225df6e6"
  }
 ],
 "metadata": {
  "kernelspec": {
   "display_name": "Python 3",
   "language": "python",
   "name": "python3"
  },
  "language_info": {
   "codemirror_mode": {
    "name": "ipython",
    "version": 2
   },
   "file_extension": ".py",
   "mimetype": "text/x-python",
   "name": "python",
   "nbconvert_exporter": "python",
   "pygments_lexer": "ipython2",
   "version": "2.7.6"
  }
 },
 "nbformat": 4,
 "nbformat_minor": 5
}
